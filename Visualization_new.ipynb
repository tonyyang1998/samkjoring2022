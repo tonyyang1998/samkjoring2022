{
 "cells": [
  {
   "cell_type": "code",
   "execution_count": 5,
   "metadata": {},
   "outputs": [],
   "source": [
    "import folium\n",
    "import main\n",
    "\n"
   ]
  },
  {
   "cell_type": "code",
   "execution_count": 7,
   "metadata": {
    "pycharm": {
     "name": "#%%\n"
    }
   },
   "outputs": [
    {
     "ename": "TypeError",
     "evalue": "add_constraints() missing 1 required positional argument: 'epsilon'",
     "output_type": "error",
     "traceback": [
      "\u001B[0;31m---------------------------------------------------------------------------\u001B[0m",
      "\u001B[0;31mTypeError\u001B[0m                                 Traceback (most recent call last)",
      "\u001B[0;32m<ipython-input-7-088d258124ce>\u001B[0m in \u001B[0;36m<module>\u001B[0;34m\u001B[0m\n\u001B[0;32m----> 1\u001B[0;31m \u001B[0marcs\u001B[0m \u001B[0;34m=\u001B[0m \u001B[0mmain\u001B[0m\u001B[0;34m.\u001B[0m\u001B[0mrun_only_once\u001B[0m\u001B[0;34m(\u001B[0m\u001B[0;34m)\u001B[0m\u001B[0;34m\u001B[0m\u001B[0;34m\u001B[0m\u001B[0m\n\u001B[0m\u001B[1;32m      2\u001B[0m \u001B[0mprint\u001B[0m\u001B[0;34m(\u001B[0m\u001B[0;34m\"mais\"\u001B[0m\u001B[0;34m)\u001B[0m\u001B[0;34m\u001B[0m\u001B[0;34m\u001B[0m\u001B[0m\n\u001B[1;32m      3\u001B[0m \u001B[0;34m\u001B[0m\u001B[0m\n\u001B[1;32m      4\u001B[0m \u001B[0;32mdef\u001B[0m \u001B[0mget_coordinates\u001B[0m\u001B[0;34m(\u001B[0m\u001B[0;34m)\u001B[0m\u001B[0;34m:\u001B[0m\u001B[0;34m\u001B[0m\u001B[0;34m\u001B[0m\u001B[0m\n\u001B[1;32m      5\u001B[0m \u001B[0;34m\u001B[0m\u001B[0m\n",
      "\u001B[0;32m~/samkjoring2022/main.py\u001B[0m in \u001B[0;36mrun_only_once\u001B[0;34m()\u001B[0m\n\u001B[1;32m    533\u001B[0m \u001B[0;34m\u001B[0m\u001B[0m\n\u001B[1;32m    534\u001B[0m \u001B[0;32mdef\u001B[0m \u001B[0mrun_only_once\u001B[0m\u001B[0;34m(\u001B[0m\u001B[0;34m)\u001B[0m\u001B[0;34m:\u001B[0m\u001B[0;34m\u001B[0m\u001B[0;34m\u001B[0m\u001B[0m\n\u001B[0;32m--> 535\u001B[0;31m     \u001B[0moptimize\u001B[0m\u001B[0;34m(\u001B[0m\u001B[0;34m)\u001B[0m\u001B[0;34m\u001B[0m\u001B[0;34m\u001B[0m\u001B[0m\n\u001B[0m\u001B[1;32m    536\u001B[0m     \u001B[0mget_feasible_variables\u001B[0m\u001B[0;34m(\u001B[0m\u001B[0;34m)\u001B[0m\u001B[0;34m\u001B[0m\u001B[0;34m\u001B[0m\u001B[0m\n\u001B[1;32m    537\u001B[0m     \u001B[0mvisualize\u001B[0m\u001B[0;34m(\u001B[0m\u001B[0;34m)\u001B[0m\u001B[0;34m\u001B[0m\u001B[0;34m\u001B[0m\u001B[0m\n",
      "\u001B[0;32m~/samkjoring2022/main.py\u001B[0m in \u001B[0;36moptimize\u001B[0;34m()\u001B[0m\n\u001B[1;32m    419\u001B[0m \u001B[0;34m\u001B[0m\u001B[0m\n\u001B[1;32m    420\u001B[0m     \u001B[0mmodel\u001B[0m\u001B[0;34m.\u001B[0m\u001B[0mParams\u001B[0m\u001B[0;34m.\u001B[0m\u001B[0mTimeLimit\u001B[0m \u001B[0;34m=\u001B[0m \u001B[0;36m30\u001B[0m\u001B[0;34m\u001B[0m\u001B[0;34m\u001B[0m\u001B[0m\n\u001B[0;32m--> 421\u001B[0;31m     \u001B[0madd_constraints\u001B[0m\u001B[0;34m(\u001B[0m\u001B[0;34m)\u001B[0m\u001B[0;34m\u001B[0m\u001B[0;34m\u001B[0m\u001B[0m\n\u001B[0m\u001B[1;32m    422\u001B[0m     \u001B[0mmodel\u001B[0m\u001B[0;34m.\u001B[0m\u001B[0moptimize\u001B[0m\u001B[0;34m(\u001B[0m\u001B[0;34m)\u001B[0m\u001B[0;34m\u001B[0m\u001B[0;34m\u001B[0m\u001B[0m\n\u001B[1;32m    423\u001B[0m \u001B[0;34m\u001B[0m\u001B[0m\n",
      "\u001B[0;31mTypeError\u001B[0m: add_constraints() missing 1 required positional argument: 'epsilon'"
     ]
    }
   ],
   "source": [
    "arcs = main.run_only_once()\n",
    "print(\"mais\")\n",
    "\n",
    "def get_coordinates():\n",
    "\n",
    "    result = {}\n",
    "    for driver in arcs:\n",
    "        visitation_sequence=[]\n",
    "        for arc in arcs[driver]:\n",
    "            if arc[0] not in visitation_sequence:\n",
    "                visitation_sequence.append(arc[0])\n",
    "            if arc[1] not in visitation_sequence:\n",
    "                visitation_sequence.append(arc[1])\n",
    "\n",
    "        driver_origin = []\n",
    "        driver_destination = []\n",
    "        passenger_pickup = []\n",
    "        passenger_delivery = []\n",
    "\n",
    "        for node in visitation_sequence:\n",
    "            if node in main.D:\n",
    "                for d in main.drivers_json:\n",
    "                    if main.drivers_json[d]['id'] == node:\n",
    "                        driver_origin.append(\n",
    "                            (main.drivers_json[d]['origin_yc'], main.drivers_json[d]['origin_xc']))\n",
    "                        driver_destination.append(\n",
    "                            (main.drivers_json[d]['destination_yc'], main.drivers_json[d]['destination_xc']))\n",
    "\n",
    "            if node in main.NP:\n",
    "                for p in main.passengers_json:\n",
    "                    if main.passengers_json[p]['id'] == node:\n",
    "                        passenger_pickup.append(\n",
    "                            (main.passengers_json[p]['origin_yc'], main.passengers_json[p]['origin_xc']))\n",
    "\n",
    "            if node in main.ND:\n",
    "                for p in main.passengers_json:\n",
    "                    if main.passengers_json[p]['id'] == node:\n",
    "                        passenger_delivery.append(\n",
    "                            (main.passengers_json[p]['destination_yc'], main.passengers_json[p]['destination_xc']))\n",
    "        result[driver] = driver_origin + passenger_pickup + passenger_delivery + driver_destination\n",
    "\n",
    "    return result\n",
    "\n",
    "\n",
    "print(get_coordinates())\n",
    "\n",
    "m = folium.Map(location=[60.355, 5.21], zoom_start=12)\n",
    "\n",
    "for driver in main.D:\n",
    "    folium.PolyLine(get_coordinates()[driver]).add_to(m)\n",
    "\n",
    "m"
   ]
  },
  {
   "cell_type": "code",
   "execution_count": null,
   "outputs": [],
   "source": [],
   "metadata": {
    "collapsed": false,
    "pycharm": {
     "name": "#%%\n"
    }
   }
  }
 ],
 "metadata": {
  "kernelspec": {
   "name": "python3",
   "language": "python",
   "display_name": "Python 3"
  },
  "language_info": {
   "codemirror_mode": {
    "name": "ipython",
    "version": 3
   },
   "file_extension": ".py",
   "mimetype": "text/x-python",
   "name": "python",
   "nbconvert_exporter": "python",
   "pygments_lexer": "ipython3",
   "version": "3.10.8"
  },
  "orig_nbformat": 4,
  "vscode": {
   "interpreter": {
    "hash": "aee8b7b246df8f9039afb4144a1f6fd8d2ca17a180786b69acc140d282b71a49"
   }
  }
 },
 "nbformat": 4,
 "nbformat_minor": 2
}