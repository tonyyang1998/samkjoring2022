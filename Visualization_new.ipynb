{
 "cells": [
  {
   "cell_type": "code",
   "execution_count": 1,
   "metadata": {},
   "outputs": [
    {
     "name": "stdout",
     "output_type": "stream",
     "text": [
      "Set parameter Username\n",
      "Academic license - for non-commercial use only - expires 2023-11-04\n"
     ]
    }
   ],
   "source": [
    "import folium\n",
    "import main\n",
    "\n"
   ]
  },
  {
   "cell_type": "code",
   "execution_count": 2,
   "metadata": {
    "pycharm": {
     "name": "#%%\n"
    }
   },
   "outputs": [
    {
     "name": "stdout",
     "output_type": "stream",
     "text": [
      "Set parameter TimeLimit to value 30\n",
      "Gurobi Optimizer version 10.0.0 build v10.0.0rc2 (mac64[x86])\n",
      "\n",
      "CPU model: Intel(R) Core(TM) i5-7267U CPU @ 3.10GHz\n",
      "Thread count: 2 physical cores, 4 logical processors, using up to 4 threads\n",
      "\n",
      "Optimize a model with 52 rows, 21 columns and 154 nonzeros\n",
      "Model fingerprint: 0xde070daa\n",
      "Model has 13 quadratic constraints\n",
      "Variable types: 6 continuous, 15 integer (15 binary)\n",
      "Coefficient statistics:\n",
      "  Matrix range     [1e+00, 5e+01]\n",
      "  QMatrix range    [1e+00, 1e+00]\n",
      "  QLMatrix range   [1e-07, 3e-01]\n",
      "  Objective range  [1e+00, 1e+00]\n",
      "  Bounds range     [1e+00, 1e+00]\n",
      "  RHS range        [2e-01, 2e+02]\n",
      "Presolve removed 12 rows and 2 columns\n",
      "Presolve time: 0.00s\n",
      "Presolved: 40 rows, 19 columns, 147 nonzeros\n",
      "Variable types: 6 continuous, 13 integer (13 binary)\n",
      "Found heuristic solution: objective -0.0000000\n",
      "Found heuristic solution: objective 2.0000000\n",
      "\n",
      "Root relaxation: cutoff, 0 iterations, 0.00 seconds (0.00 work units)\n",
      "\n",
      "Explored 1 nodes (0 simplex iterations) in 0.09 seconds (0.00 work units)\n",
      "Thread count was 4 (of 4 available processors)\n",
      "\n",
      "Solution count 2: 2 -0 \n",
      "\n",
      "Optimal solution found (tolerance 1.00e-04)\n",
      "Warning: max constraint violation (1.4142e-06) exceeds tolerance\n",
      "Best objective 2.000000000000e+00, best bound 2.000000000000e+00, gap 0.0000%\n",
      "{0: [(0, 2), (2, 1), (1, 4), (4, 3), (3, 5)]}\n",
      "{0: 0.3404224684940854}\n",
      "FITTESAUS123\n",
      "SATANIST123\n",
      "{0: [(60.382878, 5.055929), (60.368083, 5.153025), (60.356561, 5.121333), (60.395409, 5.326163)]}\n"
     ]
    },
    {
     "data": {
      "text/plain": "<folium.folium.Map at 0x7f7d285f7820>",
      "text/html": "<div style=\"width:100%;\"><div style=\"position:relative;width:100%;height:0;padding-bottom:60%;\"><span style=\"color:#565656\">Make this Notebook Trusted to load map: File -> Trust Notebook</span><iframe srcdoc=\"&lt;!DOCTYPE html&gt;\n&lt;html&gt;\n&lt;head&gt;\n    \n    &lt;meta http-equiv=&quot;content-type&quot; content=&quot;text/html; charset=UTF-8&quot; /&gt;\n    \n        &lt;script&gt;\n            L_NO_TOUCH = false;\n            L_DISABLE_3D = false;\n        &lt;/script&gt;\n    \n    &lt;style&gt;html, body {width: 100%;height: 100%;margin: 0;padding: 0;}&lt;/style&gt;\n    &lt;style&gt;#map {position:absolute;top:0;bottom:0;right:0;left:0;}&lt;/style&gt;\n    &lt;script src=&quot;https://cdn.jsdelivr.net/npm/leaflet@1.6.0/dist/leaflet.js&quot;&gt;&lt;/script&gt;\n    &lt;script src=&quot;https://code.jquery.com/jquery-1.12.4.min.js&quot;&gt;&lt;/script&gt;\n    &lt;script src=&quot;https://maxcdn.bootstrapcdn.com/bootstrap/3.2.0/js/bootstrap.min.js&quot;&gt;&lt;/script&gt;\n    &lt;script src=&quot;https://cdnjs.cloudflare.com/ajax/libs/Leaflet.awesome-markers/2.0.2/leaflet.awesome-markers.js&quot;&gt;&lt;/script&gt;\n    &lt;link rel=&quot;stylesheet&quot; href=&quot;https://cdn.jsdelivr.net/npm/leaflet@1.6.0/dist/leaflet.css&quot;/&gt;\n    &lt;link rel=&quot;stylesheet&quot; href=&quot;https://maxcdn.bootstrapcdn.com/bootstrap/3.2.0/css/bootstrap.min.css&quot;/&gt;\n    &lt;link rel=&quot;stylesheet&quot; href=&quot;https://maxcdn.bootstrapcdn.com/bootstrap/3.2.0/css/bootstrap-theme.min.css&quot;/&gt;\n    &lt;link rel=&quot;stylesheet&quot; href=&quot;https://maxcdn.bootstrapcdn.com/font-awesome/4.6.3/css/font-awesome.min.css&quot;/&gt;\n    &lt;link rel=&quot;stylesheet&quot; href=&quot;https://cdnjs.cloudflare.com/ajax/libs/Leaflet.awesome-markers/2.0.2/leaflet.awesome-markers.css&quot;/&gt;\n    &lt;link rel=&quot;stylesheet&quot; href=&quot;https://cdn.jsdelivr.net/gh/python-visualization/folium/folium/templates/leaflet.awesome.rotate.min.css&quot;/&gt;\n    \n            &lt;meta name=&quot;viewport&quot; content=&quot;width=device-width,\n                initial-scale=1.0, maximum-scale=1.0, user-scalable=no&quot; /&gt;\n            &lt;style&gt;\n                #map_baeb442842acc2ebcdcb7700b78b3562 {\n                    position: relative;\n                    width: 100.0%;\n                    height: 100.0%;\n                    left: 0.0%;\n                    top: 0.0%;\n                }\n            &lt;/style&gt;\n        \n&lt;/head&gt;\n&lt;body&gt;\n    \n    \n            &lt;div class=&quot;folium-map&quot; id=&quot;map_baeb442842acc2ebcdcb7700b78b3562&quot; &gt;&lt;/div&gt;\n        \n&lt;/body&gt;\n&lt;script&gt;\n    \n    \n            var map_baeb442842acc2ebcdcb7700b78b3562 = L.map(\n                &quot;map_baeb442842acc2ebcdcb7700b78b3562&quot;,\n                {\n                    center: [60.355, 5.21],\n                    crs: L.CRS.EPSG3857,\n                    zoom: 12,\n                    zoomControl: true,\n                    preferCanvas: false,\n                }\n            );\n\n            \n\n        \n    \n            var tile_layer_190d5279dc6472ee8f281e49e31d1fe3 = L.tileLayer(\n                &quot;https://{s}.tile.openstreetmap.org/{z}/{x}/{y}.png&quot;,\n                {&quot;attribution&quot;: &quot;Data by \\u0026copy; \\u003ca href=\\&quot;http://openstreetmap.org\\&quot;\\u003eOpenStreetMap\\u003c/a\\u003e, under \\u003ca href=\\&quot;http://www.openstreetmap.org/copyright\\&quot;\\u003eODbL\\u003c/a\\u003e.&quot;, &quot;detectRetina&quot;: false, &quot;maxNativeZoom&quot;: 18, &quot;maxZoom&quot;: 18, &quot;minZoom&quot;: 0, &quot;noWrap&quot;: false, &quot;opacity&quot;: 1, &quot;subdomains&quot;: &quot;abc&quot;, &quot;tms&quot;: false}\n            ).addTo(map_baeb442842acc2ebcdcb7700b78b3562);\n        \n    \n            var poly_line_3fc80495717d6847242bfbf69f97cde9 = L.polyline(\n                [[60.382878, 5.055929], [60.368083, 5.153025], [60.356561, 5.121333], [60.395409, 5.326163]],\n                {&quot;bubblingMouseEvents&quot;: true, &quot;color&quot;: &quot;#3388ff&quot;, &quot;dashArray&quot;: null, &quot;dashOffset&quot;: null, &quot;fill&quot;: false, &quot;fillColor&quot;: &quot;#3388ff&quot;, &quot;fillOpacity&quot;: 0.2, &quot;fillRule&quot;: &quot;evenodd&quot;, &quot;lineCap&quot;: &quot;round&quot;, &quot;lineJoin&quot;: &quot;round&quot;, &quot;noClip&quot;: false, &quot;opacity&quot;: 1.0, &quot;smoothFactor&quot;: 1.0, &quot;stroke&quot;: true, &quot;weight&quot;: 3}\n            ).addTo(map_baeb442842acc2ebcdcb7700b78b3562);\n        \n&lt;/script&gt;\n&lt;/html&gt;\" style=\"position:absolute;width:100%;height:100%;left:0;top:0;border:none !important;\" allowfullscreen webkitallowfullscreen mozallowfullscreen></iframe></div></div>"
     },
     "execution_count": 2,
     "metadata": {},
     "output_type": "execute_result"
    },
    {
     "data": {
      "text/plain": "<Figure size 432x288 with 1 Axes>",
      "image/png": "[encoded data removed]"
     },
     "metadata": {
      "needs_background": "light"
     },
     "output_type": "display_data"
    }
   ],
   "source": [
    "arcs = main.run_only_once()\n",
    "\n",
    "def get_coordinates():\n",
    "\n",
    "    result = {}\n",
    "    for driver in arcs:\n",
    "        visitation_sequence=[]\n",
    "        for arc in arcs[driver]:\n",
    "            if arc[0] not in visitation_sequence:\n",
    "                visitation_sequence.append(arc[0])\n",
    "            if arc[1] not in visitation_sequence:\n",
    "                visitation_sequence.append(arc[1])\n",
    "\n",
    "        driver_origin = []\n",
    "        driver_destination = []\n",
    "        passenger_pickup = []\n",
    "        passenger_delivery = []\n",
    "\n",
    "        for node in visitation_sequence:\n",
    "            if node in main.D:\n",
    "                for d in main.drivers_json:\n",
    "                    if main.drivers_json[d]['id'] == node:\n",
    "                        driver_origin.append(\n",
    "                            (main.drivers_json[d]['origin_yc'], main.drivers_json[d]['origin_xc']))\n",
    "                        driver_destination.append(\n",
    "                            (main.drivers_json[d]['destination_yc'], main.drivers_json[d]['destination_xc']))\n",
    "\n",
    "            if node in main.NP:\n",
    "                for p in main.passengers_json:\n",
    "                    if main.passengers_json[p]['id'] == node:\n",
    "                        passenger_pickup.append(\n",
    "                            (main.passengers_json[p]['origin_yc'], main.passengers_json[p]['origin_xc']))\n",
    "\n",
    "            if node in main.ND:\n",
    "                for p in main.passengers_json:\n",
    "                    if main.passengers_json[p]['id'] == node:\n",
    "                        passenger_delivery.append(\n",
    "                            (main.passengers_json[p]['destination_yc'], main.passengers_json[p]['destination_xc']))\n",
    "        result[driver] = driver_origin + passenger_pickup + passenger_delivery + driver_destination\n",
    "\n",
    "    return result\n",
    "\n",
    "\n",
    "print(get_coordinates())\n",
    "\n",
    "m = folium.Map(location=[60.355, 5.21], zoom_start=12)\n",
    "\n",
    "for driver in main.D:\n",
    "    folium.PolyLine(get_coordinates()[driver]).add_to(m)\n",
    "\n",
    "m"
   ]
  },
  {
   "cell_type": "code",
   "execution_count": null,
   "outputs": [],
   "source": [],
   "metadata": {
    "collapsed": false,
    "pycharm": {
     "name": "#%%\n"
    }
   }
  }
 ],
 "metadata": {
  "kernelspec": {
   "name": "python3",
   "language": "python",
   "display_name": "Python 3"
  },
  "language_info": {
   "codemirror_mode": {
    "name": "ipython",
    "version": 3
   },
   "file_extension": ".py",
   "mimetype": "text/x-python",
   "name": "python",
   "nbconvert_exporter": "python",
   "pygments_lexer": "ipython3",
   "version": "3.10.8"
  },
  "orig_nbformat": 4,
  "vscode": {
   "interpreter": {
    "hash": "aee8b7b246df8f9039afb4144a1f6fd8d2ca17a180786b69acc140d282b71a49"
   }
  }
 },
 "nbformat": 4,
 "nbformat_minor": 2
}